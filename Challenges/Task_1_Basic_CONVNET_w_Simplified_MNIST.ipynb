version https://git-lfs.github.com/spec/v1
oid sha256:29b8dd4427ccca956df5859c74a3e6951f703a56d49a893a042c0fb9bbaab7c7
size 7527
